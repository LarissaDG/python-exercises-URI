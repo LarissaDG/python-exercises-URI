{
 "cells": [
  {
   "cell_type": "code",
   "execution_count": 11,
   "metadata": {},
   "outputs": [
    {
     "name": "stdout",
     "output_type": "stream",
     "text": [
      "pedro\n",
      "700.00\n",
      "0.0\n",
      "TOTAL = R$ 700.00\n"
     ]
    }
   ],
   "source": [
    "nome = input()\n",
    "sal_fixo = input()\n",
    "total_vendas = input()\n",
    "sal = (float(total_vendas)*float(0.15)) + float(sal_fixo) \n",
    "print(\"TOTAL = R$ {:.2f}\".format(sal))"
   ]
  },
  {
   "cell_type": "code",
   "execution_count": null,
   "metadata": {},
   "outputs": [],
   "source": []
  }
 ],
 "metadata": {
  "kernelspec": {
   "display_name": "Python 3",
   "language": "python",
   "name": "python3"
  },
  "language_info": {
   "codemirror_mode": {
    "name": "ipython",
    "version": 3
   },
   "file_extension": ".py",
   "mimetype": "text/x-python",
   "name": "python",
   "nbconvert_exporter": "python",
   "pygments_lexer": "ipython3",
   "version": "3.7.3"
  }
 },
 "nbformat": 4,
 "nbformat_minor": 2
}
