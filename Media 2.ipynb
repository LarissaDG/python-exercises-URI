{
 "cells": [
  {
   "cell_type": "code",
   "execution_count": 5,
   "metadata": {},
   "outputs": [
    {
     "name": "stdout",
     "output_type": "stream",
     "text": [
      "5.0\n",
      "7.0\n",
      "6.0\n",
      "MEDIA = 6.1 \n"
     ]
    }
   ],
   "source": [
    "from decimal import Decimal\n",
    "A = input()\n",
    "B = input()\n",
    "C = input()\n",
    "media = ((Decimal(A)*Decimal(2))+(Decimal(B)*Decimal(3))+(Decimal(C)*Decimal(5)))/10\n",
    "print(\"MEDIA = {:.1f}\".format(media))"
   ]
  },
  {
   "cell_type": "code",
   "execution_count": null,
   "metadata": {},
   "outputs": [],
   "source": []
  }
 ],
 "metadata": {
  "kernelspec": {
   "display_name": "Python 3",
   "language": "python",
   "name": "python3"
  },
  "language_info": {
   "codemirror_mode": {
    "name": "ipython",
    "version": 3
   },
   "file_extension": ".py",
   "mimetype": "text/x-python",
   "name": "python",
   "nbconvert_exporter": "python",
   "pygments_lexer": "ipython3",
   "version": "3.7.3"
  }
 },
 "nbformat": 4,
 "nbformat_minor": 2
}
