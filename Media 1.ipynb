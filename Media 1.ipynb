{
 "cells": [
  {
   "cell_type": "code",
   "execution_count": 5,
   "metadata": {},
   "outputs": [
    {
     "name": "stdout",
     "output_type": "stream",
     "text": [
      "5.0\n",
      "7.1\n",
      "MEDIA = 6.43182\n"
     ]
    }
   ],
   "source": [
    "from decimal import Decimal\n",
    "A = input()\n",
    "B = input()\n",
    "media = ((Decimal(A) * Decimal(3.5)) + (Decimal(B) * Decimal(7.5)))/ Decimal(11)\n",
    "print(\"MEDIA = {:.5f}\".format(media))"
   ]
  },
  {
   "cell_type": "code",
   "execution_count": null,
   "metadata": {},
   "outputs": [],
   "source": []
  }
 ],
 "metadata": {
  "kernelspec": {
   "display_name": "Python 3",
   "language": "python",
   "name": "python3"
  }
 },
 "nbformat": 4,
 "nbformat_minor": 2
}
