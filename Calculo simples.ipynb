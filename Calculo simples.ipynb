{
 "cells": [
  {
   "cell_type": "code",
   "execution_count": 4,
   "metadata": {},
   "outputs": [
    {
     "name": "stdout",
     "output_type": "stream",
     "text": [
      "12 1 5.30\n",
      "16 2 5.10\n",
      "VALOR A PAGAR: R$ 15.50\n"
     ]
    }
   ],
   "source": [
    "linha1 = input()\n",
    "linha2 = input()\n",
    "a = linha1.split(\" \")\n",
    "b = linha2.split(\" \")\n",
    "codigo1 = a[0]\n",
    "qnt1 = a[1]\n",
    "val1 = a[2]\n",
    "codigo2 = b[0]\n",
    "qnt2 = b[1]\n",
    "val2 = b[2]\n",
    "total = (float(qnt1)*float(val1)) + (float(qnt2)*float(val2))\n",
    "print(\"VALOR A PAGAR: R$ {:.2f}\".format(total))"
   ]
  },
  {
   "cell_type": "code",
   "execution_count": null,
   "metadata": {},
   "outputs": [],
   "source": []
  }
 ],
 "metadata": {
  "kernelspec": {
   "display_name": "Python 3",
   "language": "python",
   "name": "python3"
  },
  "language_info": {
   "codemirror_mode": {
    "name": "ipython",
    "version": 3
   },
   "file_extension": ".py",
   "mimetype": "text/x-python",
   "name": "python",
   "nbconvert_exporter": "python",
   "pygments_lexer": "ipython3",
   "version": "3.7.3"
  }
 },
 "nbformat": 4,
 "nbformat_minor": 2
}
